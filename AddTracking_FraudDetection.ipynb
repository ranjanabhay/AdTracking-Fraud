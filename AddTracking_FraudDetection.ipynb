{
 "cells": [
  {
   "cell_type": "code",
   "execution_count": 111,
   "metadata": {
    "collapsed": true
   },
   "outputs": [],
   "source": [
    "#Code Below"
   ]
  },
  {
   "cell_type": "code",
   "execution_count": 112,
   "metadata": {},
   "outputs": [],
   "source": [
    "import gc\n",
    "import time\n",
    "import numpy as np\n",
    "import pandas as pd\n",
    "from sklearn.cross_validation import train_test_split\n",
    "import xgboost as xgb\n",
    "from xgboost import plot_importance\n",
    "import matplotlib.pyplot as plt"
   ]
  },
  {
   "cell_type": "code",
   "execution_count": 113,
   "metadata": {
    "collapsed": true
   },
   "outputs": [],
   "source": [
    "is_valid=False"
   ]
  },
  {
   "cell_type": "code",
   "execution_count": 114,
   "metadata": {
    "collapsed": true
   },
   "outputs": [],
   "source": [
    "#Change this for validation with 20% of data"
   ]
  },
  {
   "cell_type": "code",
   "execution_count": 115,
   "metadata": {
    "collapsed": true
   },
   "outputs": [],
   "source": [
    "def feature_creation(df):\n",
    "    df['datetime'] = pd.to_datetime(df['click_time'])\n",
    "    df['dow'] = df['datetime'].dt.dayofweek\n",
    "    df['doy'] = df['datetime'].dt.dayofyear\n",
    "    df.drop(['click_time','datetime'],axis=1,inplace=True)\n",
    "    return df"
   ]
  },
  {
   "cell_type": "code",
   "execution_count": 116,
   "metadata": {},
   "outputs": [
    {
     "data": {
      "text/plain": [
       "1525721785.32658"
      ]
     },
     "execution_count": 116,
     "metadata": {},
     "output_type": "execute_result"
    }
   ],
   "source": [
    "start_time = time.time()\n",
    "start_time"
   ]
  },
  {
   "cell_type": "code",
   "execution_count": 117,
   "metadata": {},
   "outputs": [],
   "source": [
    "# train = pd.read_csv('./input/mnt/ssd/kaggle-talkingdata2/competition_files/train.csv')\n",
    "# train.columns"
   ]
  },
  {
   "cell_type": "code",
   "execution_count": 118,
   "metadata": {
    "collapsed": true
   },
   "outputs": [],
   "source": [
    "train_columns = ['ip','app','device','os','channel','click_time','is_attributed']\n",
    "test_columns = ['ip','app','device','os','channel','click_time','click_id']"
   ]
  },
  {
   "cell_type": "code",
   "execution_count": 119,
   "metadata": {
    "collapsed": true
   },
   "outputs": [],
   "source": [
    "dtypes = {\n",
    "    'ip':'uint32',\n",
    "    'app':'uint16',\n",
    "    'device':'uint16',\n",
    "    'os':'uint16',\n",
    "    'channel':'uint16',\n",
    "    'is_attribued':'uint8',\n",
    "    'click_id':'uint32'\n",
    "}"
   ]
  },
  {
   "cell_type": "code",
   "execution_count": 120,
   "metadata": {},
   "outputs": [
    {
     "data": {
      "text/html": [
       "<div>\n",
       "<style>\n",
       "    .dataframe thead tr:only-child th {\n",
       "        text-align: right;\n",
       "    }\n",
       "\n",
       "    .dataframe thead th {\n",
       "        text-align: left;\n",
       "    }\n",
       "\n",
       "    .dataframe tbody tr th {\n",
       "        vertical-align: top;\n",
       "    }\n",
       "</style>\n",
       "<table border=\"1\" class=\"dataframe\">\n",
       "  <thead>\n",
       "    <tr style=\"text-align: right;\">\n",
       "      <th></th>\n",
       "      <th>ip</th>\n",
       "      <th>app</th>\n",
       "      <th>device</th>\n",
       "      <th>os</th>\n",
       "      <th>channel</th>\n",
       "      <th>click_time</th>\n",
       "      <th>is_attributed</th>\n",
       "    </tr>\n",
       "  </thead>\n",
       "  <tbody>\n",
       "    <tr>\n",
       "      <th>0</th>\n",
       "      <td>17357</td>\n",
       "      <td>3</td>\n",
       "      <td>1</td>\n",
       "      <td>19</td>\n",
       "      <td>379</td>\n",
       "      <td>2017-11-06 14:33:34</td>\n",
       "      <td>0</td>\n",
       "    </tr>\n",
       "    <tr>\n",
       "      <th>1</th>\n",
       "      <td>35810</td>\n",
       "      <td>3</td>\n",
       "      <td>1</td>\n",
       "      <td>13</td>\n",
       "      <td>379</td>\n",
       "      <td>2017-11-06 14:34:12</td>\n",
       "      <td>0</td>\n",
       "    </tr>\n",
       "    <tr>\n",
       "      <th>2</th>\n",
       "      <td>45745</td>\n",
       "      <td>14</td>\n",
       "      <td>1</td>\n",
       "      <td>13</td>\n",
       "      <td>478</td>\n",
       "      <td>2017-11-06 14:34:52</td>\n",
       "      <td>0</td>\n",
       "    </tr>\n",
       "    <tr>\n",
       "      <th>3</th>\n",
       "      <td>161007</td>\n",
       "      <td>3</td>\n",
       "      <td>1</td>\n",
       "      <td>13</td>\n",
       "      <td>379</td>\n",
       "      <td>2017-11-06 14:35:08</td>\n",
       "      <td>0</td>\n",
       "    </tr>\n",
       "    <tr>\n",
       "      <th>4</th>\n",
       "      <td>18787</td>\n",
       "      <td>3</td>\n",
       "      <td>1</td>\n",
       "      <td>16</td>\n",
       "      <td>379</td>\n",
       "      <td>2017-11-06 14:36:26</td>\n",
       "      <td>0</td>\n",
       "    </tr>\n",
       "  </tbody>\n",
       "</table>\n",
       "</div>"
      ],
      "text/plain": [
       "       ip  app  device  os  channel           click_time  is_attributed\n",
       "0   17357    3       1  19      379  2017-11-06 14:33:34              0\n",
       "1   35810    3       1  13      379  2017-11-06 14:34:12              0\n",
       "2   45745   14       1  13      478  2017-11-06 14:34:52              0\n",
       "3  161007    3       1  13      379  2017-11-06 14:35:08              0\n",
       "4   18787    3       1  16      379  2017-11-06 14:36:26              0"
      ]
     },
     "execution_count": 120,
     "metadata": {},
     "output_type": "execute_result"
    }
   ],
   "source": [
    "train = pd.read_csv('./input/mnt/ssd/kaggle-talkingdata2/competition_files/train.csv',skiprows=(1,123903891),nrows=51000000,usecols=train_columns,dtype=dtypes)\n",
    "train.head(n=5)\n",
    "#nrow_train = train.shape[0]"
   ]
  },
  {
   "cell_type": "code",
   "execution_count": 121,
   "metadata": {},
   "outputs": [
    {
     "name": "stdout",
     "output_type": "stream",
     "text": [
      "   click_id      ip  app  device  os  channel           click_time\n",
      "0         0    5744    9       1   3      107  2017-11-10 04:00:00\n",
      "1         1  119901    9       1   3      466  2017-11-10 04:00:00\n",
      "2         2   72287   21       1  19      128  2017-11-10 04:00:00\n",
      "3         3   78477   15       1  13      111  2017-11-10 04:00:00\n",
      "4         4  123080   12       1  13      328  2017-11-10 04:00:00\n"
     ]
    }
   ],
   "source": [
    "test = pd.read_csv('test.csv',usecols=test_columns,dtype=dtypes)\n",
    "print(test.head(n=5))"
   ]
  },
  {
   "cell_type": "code",
   "execution_count": 122,
   "metadata": {},
   "outputs": [
    {
     "name": "stdout",
     "output_type": "stream",
     "text": [
      "[58.36669683456421] Finished loading data\n"
     ]
    }
   ],
   "source": [
    "print('[{}] Finished loading data'.format(time.time() - start_time))"
   ]
  },
  {
   "cell_type": "code",
   "execution_count": 123,
   "metadata": {
    "collapsed": true
   },
   "outputs": [],
   "source": [
    "y=train['is_attributed']\n",
    "train.drop(['is_attributed'],axis=1,inplace=True)"
   ]
  },
  {
   "cell_type": "code",
   "execution_count": 124,
   "metadata": {},
   "outputs": [
    {
     "data": {
      "text/plain": [
       "266"
      ]
     },
     "execution_count": 124,
     "metadata": {},
     "output_type": "execute_result"
    }
   ],
   "source": [
    "sub=pd.DataFrame()\n",
    "test.drop(['click_id'],axis=1,inplace=True)\n",
    "gc.collect()"
   ]
  },
  {
   "cell_type": "code",
   "execution_count": 125,
   "metadata": {
    "collapsed": true
   },
   "outputs": [],
   "source": [
    "nrow_train = train.shape[0]\n",
    "merge = pd.concat([train,test])"
   ]
  },
  {
   "cell_type": "code",
   "execution_count": 126,
   "metadata": {},
   "outputs": [
    {
     "data": {
      "text/plain": [
       "36"
      ]
     },
     "execution_count": 126,
     "metadata": {},
     "output_type": "execute_result"
    }
   ],
   "source": [
    "del train,test\n",
    "gc.collect()"
   ]
  },
  {
   "cell_type": "code",
   "execution_count": 127,
   "metadata": {},
   "outputs": [],
   "source": [
    "# Count the number of clicks by ip\n",
    "ip_count = merge.groupby(['ip'])['channel'].count().reset_index()\n",
    "ip_count.columns = ['ip','clicks_by_ip']\n",
    "merge = pd.merge(merge,ip_count,on='ip',how='left',sort=False)\n",
    "merge.head(n=5)\n",
    "merge['clicks_by_ip'] = merge['clicks_by_ip'].astype('uint16')\n",
    "merge.drop('ip',axis=1,inplace=True)\n",
    "train = merge[:nrow_train]\n",
    "test = merge[nrow_train:]"
   ]
  },
  {
   "cell_type": "code",
   "execution_count": 128,
   "metadata": {},
   "outputs": [
    {
     "data": {
      "text/html": [
       "<div>\n",
       "<style>\n",
       "    .dataframe thead tr:only-child th {\n",
       "        text-align: right;\n",
       "    }\n",
       "\n",
       "    .dataframe thead th {\n",
       "        text-align: left;\n",
       "    }\n",
       "\n",
       "    .dataframe tbody tr th {\n",
       "        vertical-align: top;\n",
       "    }\n",
       "</style>\n",
       "<table border=\"1\" class=\"dataframe\">\n",
       "  <thead>\n",
       "    <tr style=\"text-align: right;\">\n",
       "      <th></th>\n",
       "      <th>app</th>\n",
       "      <th>device</th>\n",
       "      <th>os</th>\n",
       "      <th>channel</th>\n",
       "      <th>click_time</th>\n",
       "      <th>clicks_by_ip</th>\n",
       "    </tr>\n",
       "  </thead>\n",
       "  <tbody>\n",
       "    <tr>\n",
       "      <th>51000000</th>\n",
       "      <td>9</td>\n",
       "      <td>1</td>\n",
       "      <td>3</td>\n",
       "      <td>107</td>\n",
       "      <td>2017-11-10 04:00:00</td>\n",
       "      <td>377</td>\n",
       "    </tr>\n",
       "    <tr>\n",
       "      <th>51000001</th>\n",
       "      <td>9</td>\n",
       "      <td>1</td>\n",
       "      <td>3</td>\n",
       "      <td>466</td>\n",
       "      <td>2017-11-10 04:00:00</td>\n",
       "      <td>7621</td>\n",
       "    </tr>\n",
       "    <tr>\n",
       "      <th>51000002</th>\n",
       "      <td>21</td>\n",
       "      <td>1</td>\n",
       "      <td>19</td>\n",
       "      <td>128</td>\n",
       "      <td>2017-11-10 04:00:00</td>\n",
       "      <td>5877</td>\n",
       "    </tr>\n",
       "    <tr>\n",
       "      <th>51000003</th>\n",
       "      <td>15</td>\n",
       "      <td>1</td>\n",
       "      <td>13</td>\n",
       "      <td>111</td>\n",
       "      <td>2017-11-10 04:00:00</td>\n",
       "      <td>4600</td>\n",
       "    </tr>\n",
       "    <tr>\n",
       "      <th>51000004</th>\n",
       "      <td>12</td>\n",
       "      <td>1</td>\n",
       "      <td>13</td>\n",
       "      <td>328</td>\n",
       "      <td>2017-11-10 04:00:00</td>\n",
       "      <td>884</td>\n",
       "    </tr>\n",
       "  </tbody>\n",
       "</table>\n",
       "</div>"
      ],
      "text/plain": [
       "          app  device  os  channel           click_time  clicks_by_ip\n",
       "51000000    9       1   3      107  2017-11-10 04:00:00           377\n",
       "51000001    9       1   3      466  2017-11-10 04:00:00          7621\n",
       "51000002   21       1  19      128  2017-11-10 04:00:00          5877\n",
       "51000003   15       1  13      111  2017-11-10 04:00:00          4600\n",
       "51000004   12       1  13      328  2017-11-10 04:00:00           884"
      ]
     },
     "execution_count": 128,
     "metadata": {},
     "output_type": "execute_result"
    }
   ],
   "source": [
    "test.head(n=5)"
   ]
  },
  {
   "cell_type": "code",
   "execution_count": 129,
   "metadata": {},
   "outputs": [
    {
     "data": {
      "text/plain": [
       "202"
      ]
     },
     "execution_count": 129,
     "metadata": {},
     "output_type": "execute_result"
    }
   ],
   "source": [
    "del test,merge\n",
    "gc.collect()"
   ]
  },
  {
   "cell_type": "code",
   "execution_count": 130,
   "metadata": {},
   "outputs": [
    {
     "data": {
      "text/html": [
       "<div>\n",
       "<style>\n",
       "    .dataframe thead tr:only-child th {\n",
       "        text-align: right;\n",
       "    }\n",
       "\n",
       "    .dataframe thead th {\n",
       "        text-align: left;\n",
       "    }\n",
       "\n",
       "    .dataframe tbody tr th {\n",
       "        vertical-align: top;\n",
       "    }\n",
       "</style>\n",
       "<table border=\"1\" class=\"dataframe\">\n",
       "  <thead>\n",
       "    <tr style=\"text-align: right;\">\n",
       "      <th></th>\n",
       "      <th>app</th>\n",
       "      <th>device</th>\n",
       "      <th>os</th>\n",
       "      <th>channel</th>\n",
       "      <th>clicks_by_ip</th>\n",
       "      <th>dow</th>\n",
       "      <th>doy</th>\n",
       "    </tr>\n",
       "  </thead>\n",
       "  <tbody>\n",
       "    <tr>\n",
       "      <th>0</th>\n",
       "      <td>3</td>\n",
       "      <td>1</td>\n",
       "      <td>19</td>\n",
       "      <td>379</td>\n",
       "      <td>8808</td>\n",
       "      <td>0</td>\n",
       "      <td>310</td>\n",
       "    </tr>\n",
       "    <tr>\n",
       "      <th>1</th>\n",
       "      <td>3</td>\n",
       "      <td>1</td>\n",
       "      <td>13</td>\n",
       "      <td>379</td>\n",
       "      <td>3076</td>\n",
       "      <td>0</td>\n",
       "      <td>310</td>\n",
       "    </tr>\n",
       "    <tr>\n",
       "      <th>2</th>\n",
       "      <td>14</td>\n",
       "      <td>1</td>\n",
       "      <td>13</td>\n",
       "      <td>478</td>\n",
       "      <td>60724</td>\n",
       "      <td>0</td>\n",
       "      <td>310</td>\n",
       "    </tr>\n",
       "    <tr>\n",
       "      <th>3</th>\n",
       "      <td>3</td>\n",
       "      <td>1</td>\n",
       "      <td>13</td>\n",
       "      <td>379</td>\n",
       "      <td>527</td>\n",
       "      <td>0</td>\n",
       "      <td>310</td>\n",
       "    </tr>\n",
       "    <tr>\n",
       "      <th>4</th>\n",
       "      <td>3</td>\n",
       "      <td>1</td>\n",
       "      <td>16</td>\n",
       "      <td>379</td>\n",
       "      <td>1371</td>\n",
       "      <td>0</td>\n",
       "      <td>310</td>\n",
       "    </tr>\n",
       "    <tr>\n",
       "      <th>5</th>\n",
       "      <td>3</td>\n",
       "      <td>1</td>\n",
       "      <td>23</td>\n",
       "      <td>379</td>\n",
       "      <td>1988</td>\n",
       "      <td>0</td>\n",
       "      <td>310</td>\n",
       "    </tr>\n",
       "    <tr>\n",
       "      <th>6</th>\n",
       "      <td>3</td>\n",
       "      <td>1</td>\n",
       "      <td>19</td>\n",
       "      <td>379</td>\n",
       "      <td>1491</td>\n",
       "      <td>0</td>\n",
       "      <td>310</td>\n",
       "    </tr>\n",
       "    <tr>\n",
       "      <th>7</th>\n",
       "      <td>3</td>\n",
       "      <td>1</td>\n",
       "      <td>13</td>\n",
       "      <td>379</td>\n",
       "      <td>819</td>\n",
       "      <td>0</td>\n",
       "      <td>310</td>\n",
       "    </tr>\n",
       "    <tr>\n",
       "      <th>8</th>\n",
       "      <td>64</td>\n",
       "      <td>1</td>\n",
       "      <td>22</td>\n",
       "      <td>459</td>\n",
       "      <td>1233</td>\n",
       "      <td>0</td>\n",
       "      <td>310</td>\n",
       "    </tr>\n",
       "    <tr>\n",
       "      <th>9</th>\n",
       "      <td>3</td>\n",
       "      <td>1</td>\n",
       "      <td>25</td>\n",
       "      <td>379</td>\n",
       "      <td>9494</td>\n",
       "      <td>0</td>\n",
       "      <td>310</td>\n",
       "    </tr>\n",
       "    <tr>\n",
       "      <th>10</th>\n",
       "      <td>3</td>\n",
       "      <td>1</td>\n",
       "      <td>13</td>\n",
       "      <td>379</td>\n",
       "      <td>9012</td>\n",
       "      <td>0</td>\n",
       "      <td>310</td>\n",
       "    </tr>\n",
       "    <tr>\n",
       "      <th>11</th>\n",
       "      <td>3</td>\n",
       "      <td>1</td>\n",
       "      <td>19</td>\n",
       "      <td>379</td>\n",
       "      <td>1993</td>\n",
       "      <td>0</td>\n",
       "      <td>310</td>\n",
       "    </tr>\n",
       "    <tr>\n",
       "      <th>12</th>\n",
       "      <td>3</td>\n",
       "      <td>1</td>\n",
       "      <td>18</td>\n",
       "      <td>379</td>\n",
       "      <td>342</td>\n",
       "      <td>0</td>\n",
       "      <td>310</td>\n",
       "    </tr>\n",
       "    <tr>\n",
       "      <th>13</th>\n",
       "      <td>3</td>\n",
       "      <td>1</td>\n",
       "      <td>18</td>\n",
       "      <td>379</td>\n",
       "      <td>1833</td>\n",
       "      <td>0</td>\n",
       "      <td>310</td>\n",
       "    </tr>\n",
       "    <tr>\n",
       "      <th>14</th>\n",
       "      <td>3</td>\n",
       "      <td>1</td>\n",
       "      <td>19</td>\n",
       "      <td>379</td>\n",
       "      <td>1614</td>\n",
       "      <td>0</td>\n",
       "      <td>310</td>\n",
       "    </tr>\n",
       "    <tr>\n",
       "      <th>15</th>\n",
       "      <td>3</td>\n",
       "      <td>1</td>\n",
       "      <td>13</td>\n",
       "      <td>379</td>\n",
       "      <td>660</td>\n",
       "      <td>0</td>\n",
       "      <td>310</td>\n",
       "    </tr>\n",
       "    <tr>\n",
       "      <th>16</th>\n",
       "      <td>3</td>\n",
       "      <td>1</td>\n",
       "      <td>19</td>\n",
       "      <td>379</td>\n",
       "      <td>289</td>\n",
       "      <td>0</td>\n",
       "      <td>310</td>\n",
       "    </tr>\n",
       "    <tr>\n",
       "      <th>17</th>\n",
       "      <td>3</td>\n",
       "      <td>1</td>\n",
       "      <td>13</td>\n",
       "      <td>379</td>\n",
       "      <td>582</td>\n",
       "      <td>0</td>\n",
       "      <td>310</td>\n",
       "    </tr>\n",
       "    <tr>\n",
       "      <th>18</th>\n",
       "      <td>3</td>\n",
       "      <td>1</td>\n",
       "      <td>19</td>\n",
       "      <td>379</td>\n",
       "      <td>2015</td>\n",
       "      <td>0</td>\n",
       "      <td>310</td>\n",
       "    </tr>\n",
       "    <tr>\n",
       "      <th>19</th>\n",
       "      <td>3</td>\n",
       "      <td>1</td>\n",
       "      <td>18</td>\n",
       "      <td>379</td>\n",
       "      <td>1171</td>\n",
       "      <td>0</td>\n",
       "      <td>310</td>\n",
       "    </tr>\n",
       "    <tr>\n",
       "      <th>20</th>\n",
       "      <td>3</td>\n",
       "      <td>1</td>\n",
       "      <td>18</td>\n",
       "      <td>379</td>\n",
       "      <td>1332</td>\n",
       "      <td>0</td>\n",
       "      <td>310</td>\n",
       "    </tr>\n",
       "    <tr>\n",
       "      <th>21</th>\n",
       "      <td>14</td>\n",
       "      <td>1</td>\n",
       "      <td>3</td>\n",
       "      <td>478</td>\n",
       "      <td>56440</td>\n",
       "      <td>0</td>\n",
       "      <td>310</td>\n",
       "    </tr>\n",
       "    <tr>\n",
       "      <th>22</th>\n",
       "      <td>3</td>\n",
       "      <td>1</td>\n",
       "      <td>13</td>\n",
       "      <td>379</td>\n",
       "      <td>7459</td>\n",
       "      <td>0</td>\n",
       "      <td>310</td>\n",
       "    </tr>\n",
       "    <tr>\n",
       "      <th>23</th>\n",
       "      <td>3</td>\n",
       "      <td>1</td>\n",
       "      <td>17</td>\n",
       "      <td>379</td>\n",
       "      <td>1155</td>\n",
       "      <td>0</td>\n",
       "      <td>310</td>\n",
       "    </tr>\n",
       "    <tr>\n",
       "      <th>24</th>\n",
       "      <td>3</td>\n",
       "      <td>1</td>\n",
       "      <td>19</td>\n",
       "      <td>379</td>\n",
       "      <td>73</td>\n",
       "      <td>0</td>\n",
       "      <td>310</td>\n",
       "    </tr>\n",
       "    <tr>\n",
       "      <th>25</th>\n",
       "      <td>3</td>\n",
       "      <td>1</td>\n",
       "      <td>17</td>\n",
       "      <td>379</td>\n",
       "      <td>1954</td>\n",
       "      <td>0</td>\n",
       "      <td>310</td>\n",
       "    </tr>\n",
       "    <tr>\n",
       "      <th>26</th>\n",
       "      <td>3</td>\n",
       "      <td>1</td>\n",
       "      <td>13</td>\n",
       "      <td>379</td>\n",
       "      <td>474</td>\n",
       "      <td>0</td>\n",
       "      <td>310</td>\n",
       "    </tr>\n",
       "    <tr>\n",
       "      <th>27</th>\n",
       "      <td>3</td>\n",
       "      <td>1</td>\n",
       "      <td>20</td>\n",
       "      <td>379</td>\n",
       "      <td>2159</td>\n",
       "      <td>0</td>\n",
       "      <td>310</td>\n",
       "    </tr>\n",
       "    <tr>\n",
       "      <th>28</th>\n",
       "      <td>3</td>\n",
       "      <td>1</td>\n",
       "      <td>19</td>\n",
       "      <td>379</td>\n",
       "      <td>796</td>\n",
       "      <td>0</td>\n",
       "      <td>310</td>\n",
       "    </tr>\n",
       "    <tr>\n",
       "      <th>29</th>\n",
       "      <td>3</td>\n",
       "      <td>1</td>\n",
       "      <td>18</td>\n",
       "      <td>379</td>\n",
       "      <td>710</td>\n",
       "      <td>0</td>\n",
       "      <td>310</td>\n",
       "    </tr>\n",
       "  </tbody>\n",
       "</table>\n",
       "</div>"
      ],
      "text/plain": [
       "    app  device  os  channel  clicks_by_ip  dow  doy\n",
       "0     3       1  19      379          8808    0  310\n",
       "1     3       1  13      379          3076    0  310\n",
       "2    14       1  13      478         60724    0  310\n",
       "3     3       1  13      379           527    0  310\n",
       "4     3       1  16      379          1371    0  310\n",
       "5     3       1  23      379          1988    0  310\n",
       "6     3       1  19      379          1491    0  310\n",
       "7     3       1  13      379           819    0  310\n",
       "8    64       1  22      459          1233    0  310\n",
       "9     3       1  25      379          9494    0  310\n",
       "10    3       1  13      379          9012    0  310\n",
       "11    3       1  19      379          1993    0  310\n",
       "12    3       1  18      379           342    0  310\n",
       "13    3       1  18      379          1833    0  310\n",
       "14    3       1  19      379          1614    0  310\n",
       "15    3       1  13      379           660    0  310\n",
       "16    3       1  19      379           289    0  310\n",
       "17    3       1  13      379           582    0  310\n",
       "18    3       1  19      379          2015    0  310\n",
       "19    3       1  18      379          1171    0  310\n",
       "20    3       1  18      379          1332    0  310\n",
       "21   14       1   3      478         56440    0  310\n",
       "22    3       1  13      379          7459    0  310\n",
       "23    3       1  17      379          1155    0  310\n",
       "24    3       1  19      379            73    0  310\n",
       "25    3       1  17      379          1954    0  310\n",
       "26    3       1  13      379           474    0  310\n",
       "27    3       1  20      379          2159    0  310\n",
       "28    3       1  19      379           796    0  310\n",
       "29    3       1  18      379           710    0  310"
      ]
     },
     "execution_count": 130,
     "metadata": {},
     "output_type": "execute_result"
    }
   ],
   "source": [
    "train = feature_creation(train)\n",
    "train.head(n=30)"
   ]
  },
  {
   "cell_type": "code",
   "execution_count": 131,
   "metadata": {},
   "outputs": [
    {
     "name": "stdout",
     "output_type": "stream",
     "text": [
      "[123.19655585289001] Start to generate time features\n"
     ]
    }
   ],
   "source": [
    "print('[{}] Start to generate time features'.format(time.time() - start_time))"
   ]
  },
  {
   "cell_type": "code",
   "execution_count": 132,
   "metadata": {},
   "outputs": [],
   "source": [
    "# #path = '/input/mnt/ssd/kaggle-talkingdata2/competition-files/'\n",
    "# #train = pd.read_csv(path+\"train.csv\")\n",
    "# train = pd.read_csv('./input/mnt/ssd/kaggle-talkingdata2/competition_files/train.csv')\n",
    "# print(train.size)"
   ]
  },
  {
   "cell_type": "code",
   "execution_count": 133,
   "metadata": {},
   "outputs": [
    {
     "name": "stdout",
     "output_type": "stream",
     "text": [
      "[0]\ttrain-auc:0.930386\n",
      "[1]\ttrain-auc:0.960488\n",
      "[2]\ttrain-auc:0.960788\n",
      "[3]\ttrain-auc:0.961054\n",
      "[4]\ttrain-auc:0.961737\n",
      "[5]\ttrain-auc:0.961022\n",
      "[6]\ttrain-auc:0.961166\n",
      "[7]\ttrain-auc:0.961228\n",
      "[8]\ttrain-auc:0.96407\n",
      "[9]\ttrain-auc:0.964753\n",
      "[10]\ttrain-auc:0.966301\n",
      "[11]\ttrain-auc:0.967606\n",
      "[12]\ttrain-auc:0.968483\n",
      "[13]\ttrain-auc:0.968478\n",
      "[14]\ttrain-auc:0.969442\n",
      "[15]\ttrain-auc:0.969026\n",
      "[16]\ttrain-auc:0.970004\n",
      "[17]\ttrain-auc:0.969745\n",
      "[18]\ttrain-auc:0.970297\n",
      "[19]\ttrain-auc:0.970145\n",
      "[20]\ttrain-auc:0.971084\n",
      "[21]\ttrain-auc:0.971328\n",
      "[22]\ttrain-auc:0.971315\n",
      "[23]\ttrain-auc:0.971547\n",
      "[24]\ttrain-auc:0.971662\n",
      "[25]\ttrain-auc:0.971764\n",
      "[26]\ttrain-auc:0.972329\n",
      "[27]\ttrain-auc:0.972767\n",
      "[28]\ttrain-auc:0.973166\n",
      "[29]\ttrain-auc:0.973243\n",
      "[1098.2760050296783] Finish XGBoost training\n"
     ]
    }
   ],
   "source": [
    "# Setting the parameters for xgboost model\n",
    "params = { 'eta':0.3,\n",
    "           'tree_method':'approx',\n",
    "           'grow_policy':'lossguide',\n",
    "           'max_leaves':1600,\n",
    "           'max_depth':8,\n",
    "           'subsample':0.9,\n",
    "           'colsample_bytree':0.7,\n",
    "           'colsample_bylevel':0.7,\n",
    "           'min_child_weight':0,\n",
    "           'alpha':4,\n",
    "           'objective':'binary:logistic',\n",
    "           'scale_pos_weight':9,\n",
    "           'eval_metric':'auc',\n",
    "           'nthread':8,\n",
    "           'random_state':99,\n",
    "           'silent':True}\n",
    "\n",
    "if (is_valid == True):\n",
    "    x1,x2,y1,y2 = train_test_split(train,y,test_size=0.1,random_state=99)\n",
    "    dtrain = xgb.DMatrix(x1,y1)\n",
    "    dvalid = xgb.DMatrix(x2,y2)\n",
    "    del x1,x2,y1,y2\n",
    "    gc.collect()\n",
    "    watchlist = [(dtrain,'train'),(dvalid,'valid')]\n",
    "    model = xgb.train(params,dtrain,200,watchlist,maximize=True,early_stopping_rounds = 35,verbose_eval=5)\n",
    "    del dvalid\n",
    "    \n",
    "else:\n",
    "    dtrain = xgb.DMatrix(train,y)\n",
    "    del train,y\n",
    "    gc.collect()\n",
    "    watchlist = [(dtrain,'train')]\n",
    "    model = xgb.train(params,dtrain,30,watchlist,maximize=True,verbose_eval=1)\n",
    "    \n",
    "print('[{}] Finish XGBoost training'.format(time.time() - start_time))"
   ]
  },
  {
   "cell_type": "code",
   "execution_count": 134,
   "metadata": {},
   "outputs": [
    {
     "data": {
      "text/html": [
       "<div>\n",
       "<style>\n",
       "    .dataframe thead tr:only-child th {\n",
       "        text-align: right;\n",
       "    }\n",
       "\n",
       "    .dataframe thead th {\n",
       "        text-align: left;\n",
       "    }\n",
       "\n",
       "    .dataframe tbody tr th {\n",
       "        vertical-align: top;\n",
       "    }\n",
       "</style>\n",
       "<table border=\"1\" class=\"dataframe\">\n",
       "  <thead>\n",
       "    <tr style=\"text-align: right;\">\n",
       "      <th></th>\n",
       "      <th>click_id</th>\n",
       "      <th>ip</th>\n",
       "      <th>app</th>\n",
       "      <th>device</th>\n",
       "      <th>os</th>\n",
       "      <th>channel</th>\n",
       "      <th>click_time</th>\n",
       "      <th>clicks_by_ip</th>\n",
       "    </tr>\n",
       "  </thead>\n",
       "  <tbody>\n",
       "    <tr>\n",
       "      <th>0</th>\n",
       "      <td>0</td>\n",
       "      <td>5744</td>\n",
       "      <td>9</td>\n",
       "      <td>1</td>\n",
       "      <td>3</td>\n",
       "      <td>107</td>\n",
       "      <td>2017-11-10 04:00:00</td>\n",
       "      <td>377</td>\n",
       "    </tr>\n",
       "    <tr>\n",
       "      <th>1</th>\n",
       "      <td>1</td>\n",
       "      <td>119901</td>\n",
       "      <td>9</td>\n",
       "      <td>1</td>\n",
       "      <td>3</td>\n",
       "      <td>466</td>\n",
       "      <td>2017-11-10 04:00:00</td>\n",
       "      <td>7621</td>\n",
       "    </tr>\n",
       "    <tr>\n",
       "      <th>2</th>\n",
       "      <td>2</td>\n",
       "      <td>72287</td>\n",
       "      <td>21</td>\n",
       "      <td>1</td>\n",
       "      <td>19</td>\n",
       "      <td>128</td>\n",
       "      <td>2017-11-10 04:00:00</td>\n",
       "      <td>5877</td>\n",
       "    </tr>\n",
       "    <tr>\n",
       "      <th>3</th>\n",
       "      <td>3</td>\n",
       "      <td>78477</td>\n",
       "      <td>15</td>\n",
       "      <td>1</td>\n",
       "      <td>13</td>\n",
       "      <td>111</td>\n",
       "      <td>2017-11-10 04:00:00</td>\n",
       "      <td>4600</td>\n",
       "    </tr>\n",
       "    <tr>\n",
       "      <th>4</th>\n",
       "      <td>4</td>\n",
       "      <td>123080</td>\n",
       "      <td>12</td>\n",
       "      <td>1</td>\n",
       "      <td>13</td>\n",
       "      <td>328</td>\n",
       "      <td>2017-11-10 04:00:00</td>\n",
       "      <td>884</td>\n",
       "    </tr>\n",
       "  </tbody>\n",
       "</table>\n",
       "</div>"
      ],
      "text/plain": [
       "   click_id      ip  app  device  os  channel           click_time  \\\n",
       "0         0    5744    9       1   3      107  2017-11-10 04:00:00   \n",
       "1         1  119901    9       1   3      466  2017-11-10 04:00:00   \n",
       "2         2   72287   21       1  19      128  2017-11-10 04:00:00   \n",
       "3         3   78477   15       1  13      111  2017-11-10 04:00:00   \n",
       "4         4  123080   12       1  13      328  2017-11-10 04:00:00   \n",
       "\n",
       "   clicks_by_ip  \n",
       "0           377  \n",
       "1          7621  \n",
       "2          5877  \n",
       "3          4600  \n",
       "4           884  "
      ]
     },
     "execution_count": 134,
     "metadata": {},
     "output_type": "execute_result"
    }
   ],
   "source": [
    "test = pd.read_csv('test.csv',usecols=test_columns,dtype=dtypes)\n",
    "test = pd.merge(test,ip_count,on='ip',how='left',sort=False)\n",
    "test.head(n=5)"
   ]
  },
  {
   "cell_type": "code",
   "execution_count": 135,
   "metadata": {},
   "outputs": [
    {
     "name": "stdout",
     "output_type": "stream",
     "text": [
      "Index(['app', 'device', 'os', 'channel', 'clicks_by_ip', 'dow', 'doy'], dtype='object')\n"
     ]
    }
   ],
   "source": [
    "sub['click_id'] = test['click_id'].astype('int')\n",
    "test['clicks_by_ip'] = test['clicks_by_ip'].astype('uint16')\n",
    "test = feature_creation(test)\n",
    "test.drop(['click_id','ip'],axis=1,inplace=True)\n",
    "#test.drop(['ip'],axis=1,inplace=True)\n",
    "print(test.columns)\n",
    "dtest = xgb.DMatrix(test)\n",
    "del test\n",
    "gc.collect()\n",
    "\n",
    "# Saving the Predictions\n",
    "sub['is_attributed'] = model.predict(dtest,ntree_limit=model.best_ntree_limit)\n",
    "sub.to_csv('final_sub.csv',float_format='%.8f',index=False)"
   ]
  }
 ],
 "metadata": {
  "kernelspec": {
   "display_name": "Python 3",
   "language": "python",
   "name": "python3"
  },
  "language_info": {
   "codemirror_mode": {
    "name": "ipython",
    "version": 3
   },
   "file_extension": ".py",
   "mimetype": "text/x-python",
   "name": "python",
   "nbconvert_exporter": "python",
   "pygments_lexer": "ipython3",
   "version": "3.6.1"
  }
 },
 "nbformat": 4,
 "nbformat_minor": 2
}
